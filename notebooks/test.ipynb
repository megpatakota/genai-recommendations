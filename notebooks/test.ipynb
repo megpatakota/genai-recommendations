{
 "cells": [
  {
   "cell_type": "code",
   "execution_count": 3,
   "metadata": {},
   "outputs": [
    {
     "data": {
      "text/plain": [
       "{'member_id': 'M001',\n",
       " 'recommendations': [{'Experience Title': 'Sushi Making Class',\n",
       "   'Category': 'Food',\n",
       "   'Explanation': 'Since you enjoyed a Gourmet Sushi Tasting, a sushi making class would allow you to deepen your culinary skills and appreciate sushi even more.'},\n",
       "  {'Experience Title': 'Japanese Tea Ceremony',\n",
       "   'Category': 'Cultural',\n",
       "   'Explanation': 'As someone who values gourmet food experiences, you might find a Japanese tea ceremony intriguing, combining a unique cultural experience with culinary art.'},\n",
       "  {'Experience Title': 'Wine and Food Pairing Workshop',\n",
       "   'Category': 'Food',\n",
       "   'Explanation': 'Given your interest in gourmet food, a wine and food pairing workshop would enhance your knowledge and appreciation of flavors, much like your sushi tasting experience.'}]}"
      ]
     },
     "execution_count": 3,
     "metadata": {},
     "output_type": "execute_result"
    }
   ],
   "source": [
    "from app import get_recommendations\n",
    "\n",
    "output = get_recommendations('M001')\n",
    "(output)"
   ]
  }
 ],
 "metadata": {
  "kernelspec": {
   "display_name": "ai-case-heIMRLtu-py3.13",
   "language": "python",
   "name": "python3"
  },
  "language_info": {
   "codemirror_mode": {
    "name": "ipython",
    "version": 3
   },
   "file_extension": ".py",
   "mimetype": "text/x-python",
   "name": "python",
   "nbconvert_exporter": "python",
   "pygments_lexer": "ipython3",
   "version": "3.13.0"
  }
 },
 "nbformat": 4,
 "nbformat_minor": 2
}
